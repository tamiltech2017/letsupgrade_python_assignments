{
  "nbformat": 4,
  "nbformat_minor": 0,
  "metadata": {
    "colab": {
      "name": "Day4assignment.ipynb",
      "provenance": [],
      "collapsed_sections": [],
      "authorship_tag": "ABX9TyPBuFSMxMzxt5JwWQisPC8V"
    },
    "kernelspec": {
      "name": "python3",
      "display_name": "Python 3"
    }
  },
  "cells": [
    {
      "cell_type": "markdown",
      "metadata": {
        "id": "iKd1kjC7yeif"
      },
      "source": [
        " #Q1 File Handling"
      ]
    },
    {
      "cell_type": "code",
      "metadata": {
        "id": "uqkEz_yzyUZq"
      },
      "source": [
        "f=open(\"lu.txt\",'w')\n",
        "f.write(\"I Love Letsupgrade\")\n",
        "f.close()"
      ],
      "execution_count": 5,
      "outputs": []
    },
    {
      "cell_type": "code",
      "metadata": {
        "id": "whkYRPHLAl5t"
      },
      "source": [
        "f=open(\"lu.txt\",'r+')\n",
        "f.read()\n",
        "f.write(\"File Handling\")\n",
        "f.close()"
      ],
      "execution_count": 10,
      "outputs": []
    },
    {
      "cell_type": "markdown",
      "metadata": {
        "id": "locbt6RM8uJM"
      },
      "source": [
        " #Q Factorial number using function"
      ]
    },
    {
      "cell_type": "code",
      "metadata": {
        "colab": {
          "base_uri": "https://localhost:8080/"
        },
        "id": "wZtl4Qbl8v2H",
        "outputId": "2bc397e9-63a9-4d0a-88c1-ef9e498f3fb0"
      },
      "source": [
        "def factorial(number):\n",
        " \n",
        "    if number == 1:\n",
        "        return int(number)\n",
        "    else:\n",
        "        return int(number * factorial(number - 1))\n",
        " \n",
        "number = int(input(\"Enter a Number: \"))\n",
        " \n",
        "if number < 0:\n",
        "    print(\"Factorial cannot be found for negative numbers\")\n",
        "elif number == 0:\n",
        "    print(\"Factorial of 0 is 1\")\n",
        "else:\n",
        "    print(\"Factorial of\", number, \"is: \", factorial(number))"
      ],
      "execution_count": 4,
      "outputs": [
        {
          "output_type": "stream",
          "text": [
            "Enter a Number: 7\n",
            "Factorial of 7 is:  5040\n"
          ],
          "name": "stdout"
        }
      ]
    }
  ]
}