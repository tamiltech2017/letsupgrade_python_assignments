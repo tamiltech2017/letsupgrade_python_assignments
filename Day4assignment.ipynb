{
  "nbformat": 4,
  "nbformat_minor": 0,
  "metadata": {
    "colab": {
      "name": "Day4assignment.ipynb",
      "provenance": [],
      "collapsed_sections": [],
      "authorship_tag": "ABX9TyMXI+4ZSrHQ/VbOZ0iwd6Hq",
      "include_colab_link": true
    },
    "kernelspec": {
      "name": "python3",
      "display_name": "Python 3"
    }
  },
  "cells": [
    {
      "cell_type": "markdown",
      "metadata": {
        "id": "view-in-github",
        "colab_type": "text"
      },
      "source": [
        "<a href=\"https://colab.research.google.com/github/tamiltech2017/letsupgrade_python_assignments/blob/Day-1/Day4assignment.ipynb\" target=\"_parent\"><img src=\"https://colab.research.google.com/assets/colab-badge.svg\" alt=\"Open In Colab\"/></a>"
      ]
    },
    {
      "cell_type": "markdown",
      "metadata": {
        "id": "iKd1kjC7yeif"
      },
      "source": [
        " #Q1 File Handling"
      ]
    },
    {
      "cell_type": "code",
      "metadata": {
        "id": "uqkEz_yzyUZq"
      },
      "source": [
        "f=open(\"lu.txt\",'w')\n",
        "f.write(\"I Love Letsupgrade\")\n",
        "f.close()"
      ],
      "execution_count": 5,
      "outputs": []
    },
    {
      "cell_type": "code",
      "metadata": {
        "colab": {
          "base_uri": "https://localhost:8080/",
          "height": 299
        },
        "id": "whkYRPHLAl5t",
        "outputId": "25c27143-440e-4459-db71-74578383bec4"
      },
      "source": [
        "f=open(\"lu.txt\",'r+')\n",
        "f.read()\n",
        "f.append(\"File Handling\")\n",
        "f.close()"
      ],
      "execution_count": 6,
      "outputs": [
        {
          "output_type": "error",
          "ename": "FileNotFoundError",
          "evalue": "ignored",
          "traceback": [
            "\u001b[0;31m---------------------------------------------------------------------------\u001b[0m",
            "\u001b[0;31mFileNotFoundError\u001b[0m                         Traceback (most recent call last)",
            "\u001b[0;32m<ipython-input-6-570cc1c07ff5>\u001b[0m in \u001b[0;36m<module>\u001b[0;34m()\u001b[0m\n\u001b[0;32m----> 1\u001b[0;31m \u001b[0mf\u001b[0m\u001b[0;34m=\u001b[0m\u001b[0mopen\u001b[0m\u001b[0;34m(\u001b[0m\u001b[0;34m\"Lu.txt\"\u001b[0m\u001b[0;34m,\u001b[0m\u001b[0;34m'r+'\u001b[0m\u001b[0;34m)\u001b[0m\u001b[0;34m\u001b[0m\u001b[0;34m\u001b[0m\u001b[0m\n\u001b[0m\u001b[1;32m      2\u001b[0m \u001b[0mf\u001b[0m\u001b[0;34m.\u001b[0m\u001b[0mread\u001b[0m\u001b[0;34m(\u001b[0m\u001b[0;34m)\u001b[0m\u001b[0;34m\u001b[0m\u001b[0;34m\u001b[0m\u001b[0m\n\u001b[1;32m      3\u001b[0m \u001b[0mf\u001b[0m\u001b[0;34m.\u001b[0m\u001b[0mclose\u001b[0m\u001b[0;34m(\u001b[0m\u001b[0;34m)\u001b[0m\u001b[0;34m\u001b[0m\u001b[0;34m\u001b[0m\u001b[0m\n",
            "\u001b[0;31mFileNotFoundError\u001b[0m: [Errno 2] No such file or directory: 'Lu.txt'"
          ]
        }
      ]
    },
    {
      "cell_type": "markdown",
      "metadata": {
        "id": "locbt6RM8uJM"
      },
      "source": [
        " #Q Factorial number using function"
      ]
    },
    {
      "cell_type": "code",
      "metadata": {
        "colab": {
          "base_uri": "https://localhost:8080/"
        },
        "id": "wZtl4Qbl8v2H",
        "outputId": "2bc397e9-63a9-4d0a-88c1-ef9e498f3fb0"
      },
      "source": [
        "def factorial(number):\n",
        " \n",
        "    if number == 1:\n",
        "        return int(number)\n",
        "    else:\n",
        "        return int(number * factorial(number - 1))\n",
        " \n",
        "number = int(input(\"Enter a Number: \"))\n",
        " \n",
        "if number < 0:\n",
        "    print(\"Factorial cannot be found for negative numbers\")\n",
        "elif number == 0:\n",
        "    print(\"Factorial of 0 is 1\")\n",
        "else:\n",
        "    print(\"Factorial of\", number, \"is: \", factorial(number))"
      ],
      "execution_count": 4,
      "outputs": [
        {
          "output_type": "stream",
          "text": [
            "Enter a Number: 7\n",
            "Factorial of 7 is:  5040\n"
          ],
          "name": "stdout"
        }
      ]
    }
  ]
}