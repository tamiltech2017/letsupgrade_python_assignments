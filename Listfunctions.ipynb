{
  "nbformat": 4,
  "nbformat_minor": 0,
  "metadata": {
    "colab": {
      "name": "Listfunctions.ipynb",
      "provenance": [],
      "collapsed_sections": [],
      "authorship_tag": "ABX9TyPudRu28kcXdGIGeEpdP3N2"
    },
    "kernelspec": {
      "name": "python3",
      "display_name": "Python 3"
    }
  },
  "cells": [
    {
      "cell_type": "code",
      "metadata": {
        "colab": {
          "base_uri": "https://localhost:8080/"
        },
        "id": "Ogb7A8vLVIxD",
        "outputId": "688f41d5-65df-447f-c2cb-8a939a8122c3"
      },
      "source": [
        "color=['blue','green','red','yellow']\n",
        "print(color)\n",
        "color.append(\"pink\") #1st method\n",
        "print(color)\n",
        "x=color.index('yellow') #2nd method\n",
        "print(x)\n",
        "color.remove(\"red\") #3rd method\n",
        "print(color)\n",
        "fruit=['apple','orange','mango']\n",
        "color.extend(fruit) #4th method\n",
        "print(color)\n",
        "color.sort() #5th method\n",
        "print(color)"
      ],
      "execution_count": null,
      "outputs": [
        {
          "output_type": "stream",
          "text": [
            "['blue', 'green', 'red', 'yellow']\n",
            "['blue', 'green', 'red', 'yellow', 'pink']\n",
            "3\n",
            "['blue', 'green', 'yellow', 'pink']\n",
            "['blue', 'green', 'yellow', 'pink', 'apple', 'orange', 'mango']\n",
            "['apple', 'blue', 'green', 'mango', 'orange', 'pink', 'yellow']\n"
          ],
          "name": "stdout"
        }
      ]
    }
  ]
}