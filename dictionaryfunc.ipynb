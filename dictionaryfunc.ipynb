{
  "nbformat": 4,
  "nbformat_minor": 0,
  "metadata": {
    "colab": {
      "name": "dictionaryfunc.ipynb",
      "provenance": [],
      "collapsed_sections": [],
      "authorship_tag": "ABX9TyP5FYE/N5p7I08VPhrzDEUy"
    },
    "kernelspec": {
      "name": "python3",
      "display_name": "Python 3"
    }
  },
  "cells": [
    {
      "cell_type": "code",
      "metadata": {
        "colab": {
          "base_uri": "https://localhost:8080/"
        },
        "id": "Ul9zAL6TzLOf",
        "outputId": "c588970e-202c-4413-e977-9df1f805df4d"
      },
      "source": [
        "bike={\"model\":\"FZV3\",\"color\":\"Matt Black\",\"weight\":\"140kg\"}\n",
        "a=bike.values() #1st function returns all values in dictionary\n",
        "print(a)\n",
        "a=bike.get(\"color\") #2nd function returns the value of the specified key\n",
        "print(a)\n",
        "a=bike.keys() #3rd function returns all the keys in dictionary\n",
        "print(a)\n",
        "bike.pop(\"color\") #4th function remove specified items from dictionary\n",
        "print(bike)\n",
        "bike.update({\"height\":\"181cm\"}) #5th function add new key-value to dictionary\n",
        "print(bike)"
      ],
      "execution_count": 1,
      "outputs": [
        {
          "output_type": "stream",
          "text": [
            "dict_values(['FZV3', 'Matt Black', '140kg'])\n",
            "Matt Black\n",
            "dict_keys(['model', 'color', 'weight'])\n",
            "{'model': 'FZV3', 'weight': '140kg'}\n",
            "{'model': 'FZV3', 'weight': '140kg', 'height': '181cm'}\n"
          ],
          "name": "stdout"
        }
      ]
    }
  ]
}