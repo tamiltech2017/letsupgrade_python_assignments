{
  "nbformat": 4,
  "nbformat_minor": 0,
  "metadata": {
    "colab": {
      "name": "Stringfunctions.ipynb",
      "provenance": [],
      "authorship_tag": "ABX9TyOKTnFSlD862QCR7xIkw4bw"
    },
    "kernelspec": {
      "name": "python3",
      "display_name": "Python 3"
    }
  },
  "cells": [
    {
      "cell_type": "code",
      "metadata": {
        "colab": {
          "base_uri": "https://localhost:8080/"
        },
        "id": "AdKxQYfQPHPA",
        "outputId": "03f29797-ddf5-4edf-a519-763c92c54c14"
      },
      "source": [
        "Text1=\"hello letsupgrade\"\n",
        "X=Text1.upper()\n",
        "print(X)\n",
        "X=Text1.lower()\n",
        "print(X)\n",
        "X=Text1.title()\n",
        "print(X)\n",
        "X=Text1.split(sep=' ')\n",
        "print(X)\n",
        "X=Text1.replace('letsupgrade' ,'sai')\n",
        "print(X)\n",
        "print(Text1.isupper())"
      ],
      "execution_count": null,
      "outputs": [
        {
          "output_type": "stream",
          "text": [
            "HELLO LETSUPGRADE\n",
            "hello letsupgrade\n",
            "Hello Letsupgrade\n",
            "['hello', 'letsupgrade']\n",
            "hello sai\n",
            "False\n"
          ],
          "name": "stdout"
        }
      ]
    }
  ]
}