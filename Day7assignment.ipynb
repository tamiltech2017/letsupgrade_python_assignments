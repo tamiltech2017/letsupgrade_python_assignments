{
  "nbformat": 4,
  "nbformat_minor": 0,
  "metadata": {
    "colab": {
      "name": "Day7assignment.ipynb",
      "provenance": [],
      "collapsed_sections": [],
      "authorship_tag": "ABX9TyPq6sFRR8iT37voTtX/Cvo3",
      "include_colab_link": true
    },
    "kernelspec": {
      "name": "python3",
      "display_name": "Python 3"
    }
  },
  "cells": [
    {
      "cell_type": "markdown",
      "metadata": {
        "id": "view-in-github",
        "colab_type": "text"
      },
      "source": [
        "<a href=\"https://colab.research.google.com/github/tamiltech2017/letsupgrade_python_assignments/blob/Day-1/Day7assignment.ipynb\" target=\"_parent\"><img src=\"https://colab.research.google.com/assets/colab-badge.svg\" alt=\"Open In Colab\"/></a>"
      ]
    },
    {
      "cell_type": "markdown",
      "metadata": {
        "id": "51bgy6oOrRh4"
      },
      "source": [
        "#Youtube Video Downloader In Python"
      ]
    },
    {
      "cell_type": "code",
      "metadata": {
        "colab": {
          "base_uri": "https://localhost:8080/"
        },
        "id": "il-PyLgPhbXV",
        "outputId": "ece8442f-b6ad-4285-ac5b-f300bdaac390"
      },
      "source": [
        "!pip install pytube"
      ],
      "execution_count": null,
      "outputs": [
        {
          "output_type": "stream",
          "text": [
            "Collecting pytube\n",
            "\u001b[?25l  Downloading https://files.pythonhosted.org/packages/63/2d/5b64e61f34d193b718aa39d322eddd7a17a3cc07f56a4b27b107ea234c02/pytube-10.0.0-py3-none-any.whl (40kB)\n",
            "\r\u001b[K     |████████                        | 10kB 17.5MB/s eta 0:00:01\r\u001b[K     |████████████████                | 20kB 17.2MB/s eta 0:00:01\r\u001b[K     |████████████████████████        | 30kB 15.5MB/s eta 0:00:01\r\u001b[K     |████████████████████████████████| 40kB 4.5MB/s \n",
            "\u001b[?25hRequirement already satisfied: typing-extensions in /usr/local/lib/python3.6/dist-packages (from pytube) (3.7.4.3)\n",
            "Installing collected packages: pytube\n",
            "Successfully installed pytube-10.0.0\n"
          ],
          "name": "stdout"
        }
      ]
    },
    {
      "cell_type": "code",
      "metadata": {
        "id": "LISotdUVhqXN"
      },
      "source": [
        " from pytube import YouTube"
      ],
      "execution_count": null,
      "outputs": []
    },
    {
      "cell_type": "code",
      "metadata": {
        "id": "0Er-fbakh0pI",
        "colab": {
          "base_uri": "https://localhost:8080/",
          "height": 52
        },
        "outputId": "4da58c8f-c5e6-442e-8a67-10c24cb1d33d"
      },
      "source": [
        " YouTube('https://youtu.be/4xefP-wjTCc').streams.first().download()"
      ],
      "execution_count": 6,
      "outputs": [
        {
          "output_type": "execute_result",
          "data": {
            "application/vnd.google.colaboratory.intrinsic+json": {
              "type": "string"
            },
            "text/plain": [
              "'/content/Python Essential  Program   Day 1  LetsUpgrade.mp4'"
            ]
          },
          "metadata": {
            "tags": []
          },
          "execution_count": 6
        }
      ]
    }
  ]
}