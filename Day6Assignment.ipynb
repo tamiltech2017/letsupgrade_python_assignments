{
  "nbformat": 4,
  "nbformat_minor": 0,
  "metadata": {
    "colab": {
      "name": "Day6Assignment.ipynb",
      "provenance": [],
      "collapsed_sections": [],
      "authorship_tag": "ABX9TyNkEfxa7X0PHkVEPjhw4H1T"
    },
    "kernelspec": {
      "name": "python3",
      "display_name": "Python 3"
    }
  },
  "cells": [
    {
      "cell_type": "code",
      "metadata": {
        "colab": {
          "base_uri": "https://localhost:8080/"
        },
        "id": "QafLPLHvZme1",
        "outputId": "2117673c-7c11-4352-fe41-fe49c55ca303"
      },
      "source": [
        " !pip install emails"
      ],
      "execution_count": 16,
      "outputs": [
        {
          "output_type": "stream",
          "text": [
            "Requirement already satisfied: emails in /usr/local/lib/python3.6/dist-packages (0.6)\n",
            "Requirement already satisfied: premailer in /usr/local/lib/python3.6/dist-packages (from emails) (3.7.0)\n",
            "Requirement already satisfied: lxml in /usr/local/lib/python3.6/dist-packages (from emails) (4.2.6)\n",
            "Requirement already satisfied: requests in /usr/local/lib/python3.6/dist-packages (from emails) (2.23.0)\n",
            "Requirement already satisfied: python-dateutil in /usr/local/lib/python3.6/dist-packages (from emails) (2.8.1)\n",
            "Requirement already satisfied: cssutils in /usr/local/lib/python3.6/dist-packages (from emails) (1.0.2)\n",
            "Requirement already satisfied: chardet in /usr/local/lib/python3.6/dist-packages (from emails) (3.0.4)\n",
            "Requirement already satisfied: cssselect in /usr/local/lib/python3.6/dist-packages (from premailer->emails) (1.1.0)\n",
            "Requirement already satisfied: cachetools in /usr/local/lib/python3.6/dist-packages (from premailer->emails) (4.2.0)\n",
            "Requirement already satisfied: certifi>=2017.4.17 in /usr/local/lib/python3.6/dist-packages (from requests->emails) (2020.12.5)\n",
            "Requirement already satisfied: urllib3!=1.25.0,!=1.25.1,<1.26,>=1.21.1 in /usr/local/lib/python3.6/dist-packages (from requests->emails) (1.24.3)\n",
            "Requirement already satisfied: idna<3,>=2.5 in /usr/local/lib/python3.6/dist-packages (from requests->emails) (2.10)\n",
            "Requirement already satisfied: six>=1.5 in /usr/local/lib/python3.6/dist-packages (from python-dateutil->emails) (1.15.0)\n"
          ],
          "name": "stdout"
        }
      ]
    },
    {
      "cell_type": "code",
      "metadata": {
        "id": "cra_kTgEZwqk"
      },
      "source": [
        " import emails"
      ],
      "execution_count": 24,
      "outputs": []
    },
    {
      "cell_type": "code",
      "metadata": {
        "id": "bch13GZaXyCF"
      },
      "source": [
        " \n",
        "def sendMail(email, name):\n",
        "    \n",
        "    html_text = \"Hello Welcome to LetsUpgrade\"\n",
        " \n",
        "    subject = \"Hello\"+ name + \", you have EMAIL from LetsUpgrade\"\n",
        "    message = emails.html(html=html_text,\n",
        "                          subject=subject,\n",
        "                          mail_from=('LetsUpgrade', 'dreamshots2017@gmail.com'))\n",
        " \n",
        "    \n",
        "    mail_via_python = message.send(to=email, \n",
        "                               smtp={'host': 'smtp.gmail.com', \n",
        "                                     'timeout': 5,\n",
        "                                    'port':587,\n",
        "                                    'user':'dreamshots2017@gmail.com',\n",
        "                                    'password':'bharathi96',\n",
        "                                    'tls':True})\n",
        "    return mail_via_python.status_code"
      ],
      "execution_count": 28,
      "outputs": []
    },
    {
      "cell_type": "code",
      "metadata": {
        "id": "mJpncXSbZzDS"
      },
      "source": [
        " sendMail(\"cspandiyan95@gmail.com\",\"Saravana\")"
      ],
      "execution_count": 29,
      "outputs": []
    }
  ]
}