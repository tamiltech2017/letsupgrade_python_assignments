{
  "nbformat": 4,
  "nbformat_minor": 0,
  "metadata": {
    "colab": {
      "name": "Day8assignment.ipynb",
      "provenance": [],
      "collapsed_sections": [],
      "authorship_tag": "ABX9TyPkzmyPn09cOibF12qQWZkr"
    },
    "kernelspec": {
      "name": "python3",
      "display_name": "Python 3"
    }
  },
  "cells": [
    {
      "cell_type": "code",
      "metadata": {
        "colab": {
          "base_uri": "https://localhost:8080/"
        },
        "id": "37A2iOHfCeBd",
        "outputId": "eafecae9-f647-44d6-ff04-ea4cdd28a14e"
      },
      "source": [
        " !pip install firebase"
      ],
      "execution_count": 3,
      "outputs": [
        {
          "output_type": "stream",
          "text": [
            "Collecting firebase\n",
            "  Downloading https://files.pythonhosted.org/packages/f8/33/6b2a24e349563f2d279ccc8321f26a9c0d6d2f8205adb68f3046c3ec7a89/firebase-3.0.1-py3-none-any.whl\n",
            "Requirement already satisfied: requests in /usr/local/lib/python3.6/dist-packages (from firebase) (2.23.0)\n",
            "Requirement already satisfied: urllib3!=1.25.0,!=1.25.1,<1.26,>=1.21.1 in /usr/local/lib/python3.6/dist-packages (from requests->firebase) (1.24.3)\n",
            "Requirement already satisfied: idna<3,>=2.5 in /usr/local/lib/python3.6/dist-packages (from requests->firebase) (2.10)\n",
            "Requirement already satisfied: certifi>=2017.4.17 in /usr/local/lib/python3.6/dist-packages (from requests->firebase) (2020.12.5)\n",
            "Requirement already satisfied: chardet<4,>=3.0.2 in /usr/local/lib/python3.6/dist-packages (from requests->firebase) (3.0.4)\n",
            "Installing collected packages: firebase\n",
            "Successfully installed firebase-3.0.1\n"
          ],
          "name": "stdout"
        }
      ]
    },
    {
      "cell_type": "code",
      "metadata": {
        "id": "LpG5__6ECl05"
      },
      "source": [
        " import firebase_admin"
      ],
      "execution_count": null,
      "outputs": []
    },
    {
      "cell_type": "code",
      "metadata": {
        "id": "_MAUTUTvCpnO"
      },
      "source": [
        "from firebase_admin import credentials\n",
        "from firebase_admin import firestore"
      ],
      "execution_count": 2,
      "outputs": []
    },
    {
      "cell_type": "code",
      "metadata": {
        "id": "7M2wm0D9Cszp"
      },
      "source": [
        "cred = credentials.Certificate(\"python-demo-letsupgrade-firebase-adminsdk-uarq8-8b119e9481.json\")\n",
        "firebase_admin.initialize_app(cred)"
      ],
      "execution_count": null,
      "outputs": []
    },
    {
      "cell_type": "code",
      "metadata": {
        "id": "NJMTarJ3Cwsq"
      },
      "source": [
        " db = firestore.client()"
      ],
      "execution_count": null,
      "outputs": []
    },
    {
      "cell_type": "code",
      "metadata": {
        "id": "cmmI8GzjC0cc"
      },
      "source": [
        "doc_ref = db.collection(u'users').document(u'abc')\n",
        " \n",
        "doc_ref.set({\n",
        "    u'first': u'Faiza',\n",
        "    u'last': u'Gokak',\n",
        "    u'born': 1997\n",
        "})"
      ],
      "execution_count": null,
      "outputs": []
    },
    {
      "cell_type": "code",
      "metadata": {
        "id": "VPLR4nG1C3xP"
      },
      "source": [
        "def enterDataInDB():\n",
        "    doc_ref = db.collection(u'LetsUpgradeUsers').document()\n",
        "    \n",
        "    name = input(\"Enter Name - \")\n",
        "    lastName = input(\"Enter Last Name - \")\n",
        "    age = int(input(\"Enter Age - \"))\n",
        "    \n",
        "    dit = {}\n",
        "    dit[\"firstName\"] = name\n",
        "    dit[\"lastName\"] = lastName\n",
        "    dit[\"age\"] = age\n",
        "    \n",
        "    doc_ref.set(dit)"
      ],
      "execution_count": 1,
      "outputs": []
    },
    {
      "cell_type": "code",
      "metadata": {
        "id": "msFKTFJYDDPY"
      },
      "source": [
        " enterDataInDB()"
      ],
      "execution_count": null,
      "outputs": []
    },
    {
      "cell_type": "code",
      "metadata": {
        "id": "zuHCCyHeDMPD"
      },
      "source": [
        "docs = db.collection(u'LetsUpgradeUsers').stream()\n",
        " \n",
        "for doc in docs:\n",
        "    \n",
        "    print(\"ID - \", doc.id)\n",
        "    \n",
        "    print(\"First Name - \", doc.to_dict().get(\"firstName\"))\n",
        "    print(\"Last Name - \", doc.to_dict().get(\"lastName\"))\n",
        "    print(\"Age - \", doc.to_dict().get(\"age\") )\n",
        "    \n",
        "    print(\"=======\")\n",
        "    print(\"===========\")"
      ],
      "execution_count": null,
      "outputs": []
    },
    {
      "cell_type": "code",
      "metadata": {
        "id": "HY6TO0wYDY32"
      },
      "source": [
        "def updateDatainFirebase(uid, updatedAge):\n",
        "    doc_ref = db.collection(u'LetsUpgradeUsers').document(uid)\n",
        "    \n",
        "    doc_ref.update({\"age\":updatedAge})"
      ],
      "execution_count": null,
      "outputs": []
    },
    {
      "cell_type": "code",
      "metadata": {
        "id": "bGV93pM2Dgiu"
      },
      "source": [
        " updateDatainFirebase(\"zslFTBzZl8BKFhSI4Yxw\",26)"
      ],
      "execution_count": null,
      "outputs": []
    },
    {
      "cell_type": "code",
      "metadata": {
        "id": "Vflp8hiSDlNE"
      },
      "source": [
        "def deleteDataInFirebase(uid):\n",
        "    db.collection(u'LetsUpgradeUsers').document(uid).delete()"
      ],
      "execution_count": null,
      "outputs": []
    },
    {
      "cell_type": "code",
      "metadata": {
        "id": "qnl0z8hrDo-N"
      },
      "source": [
        " deleteDataInFirebase(\"0rg4glbfc8l7cuTbl2MD\")"
      ],
      "execution_count": null,
      "outputs": []
    },
    {
      "cell_type": "code",
      "metadata": {
        "id": "XXF8HWmdDv7g"
      },
      "source": [
        ""
      ],
      "execution_count": null,
      "outputs": []
    }
  ]
}