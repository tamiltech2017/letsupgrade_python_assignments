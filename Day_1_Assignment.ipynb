{
  "nbformat": 4,
  "nbformat_minor": 0,
  "metadata": {
    "colab": {
      "name": "Day 1 Assignment.ipynb",
      "provenance": [],
      "authorship_tag": "ABX9TyNR4mVm57TVt6FddnMWXyja"
    },
    "kernelspec": {
      "name": "python3",
      "display_name": "Python 3"
    }
  },
  "cells": [
    {
      "cell_type": "markdown",
      "metadata": {
        "id": "tJwpCF4McaE7"
      },
      "source": [
        "String functions"
      ]
    },
    {
      "cell_type": "code",
      "metadata": {
        "colab": {
          "base_uri": "https://localhost:8080/"
        },
        "id": "AdKxQYfQPHPA",
        "outputId": "03f29797-ddf5-4edf-a519-763c92c54c14"
      },
      "source": [
        "Text1=\"hello letsupgrade\"\n",
        "X=Text1.upper()\n",
        "print(X)\n",
        "X=Text1.lower()\n",
        "print(X)\n",
        "X=Text1.title()\n",
        "print(X)\n",
        "X=Text1.split(sep=' ')\n",
        "print(X)\n",
        "X=Text1.replace('letsupgrade' ,'sai')\n",
        "print(X)\n",
        "print(Text1.isupper())"
      ],
      "execution_count": null,
      "outputs": [
        {
          "output_type": "stream",
          "text": [
            "HELLO LETSUPGRADE\n",
            "hello letsupgrade\n",
            "Hello Letsupgrade\n",
            "['hello', 'letsupgrade']\n",
            "hello sai\n",
            "False\n"
          ],
          "name": "stdout"
        }
      ]
    },
    {
      "cell_type": "markdown",
      "metadata": {
        "id": "XHG4cHV-cvmy"
      },
      "source": [
        " List Functions"
      ]
    },
    {
      "cell_type": "code",
      "metadata": {
        "colab": {
          "base_uri": "https://localhost:8080/"
        },
        "id": "Z5pk8NrtcrfY",
        "outputId": "20a94e4b-3020-4895-e8d6-5dd0e08d9b7e"
      },
      "source": [
        " color=['blue','green','red','yellow']\n",
        "print(color)\n",
        "color.append(\"pink\") #1st method\n",
        "print(color)\n",
        "x=color.index('yellow') #2nd method\n",
        "print(x)\n",
        "color.remove(\"red\") #3rd method\n",
        "print(color)\n",
        "fruit=['apple','orange','mango']\n",
        "color.extend(fruit) #4th method\n",
        "print(color)\n",
        "color.sort() #5th method\n",
        "print(color)"
      ],
      "execution_count": 1,
      "outputs": [
        {
          "output_type": "stream",
          "text": [
            "['blue', 'green', 'red', 'yellow']\n",
            "['blue', 'green', 'red', 'yellow', 'pink']\n",
            "3\n",
            "['blue', 'green', 'yellow', 'pink']\n",
            "['blue', 'green', 'yellow', 'pink', 'apple', 'orange', 'mango']\n",
            "['apple', 'blue', 'green', 'mango', 'orange', 'pink', 'yellow']\n"
          ],
          "name": "stdout"
        }
      ]
    },
    {
      "cell_type": "markdown",
      "metadata": {
        "id": "ACmPop3OdHNQ"
      },
      "source": [
        "Dictionary Functions"
      ]
    },
    {
      "cell_type": "code",
      "metadata": {
        "colab": {
          "base_uri": "https://localhost:8080/"
        },
        "id": "Jeq4mgaPdKdZ",
        "outputId": "402043be-d239-4281-a699-9d6df8d80f2e"
      },
      "source": [
        " \n",
        "bike={\"model\":\"FZV3\",\"color\":\"Matt Black\",\"weight\":\"140kg\"}\n",
        "a=bike.values() #1st function returns all values in dictionary\n",
        "print(a)\n",
        "a=bike.get(\"color\") #2nd function returns the value of the specified key\n",
        "print(a)\n",
        "a=bike.keys() #3rd function returns all the keys in dictionary\n",
        "print(a)\n",
        "bike.pop(\"color\") #4th function remove specified items from dictionary\n",
        "print(bike)\n",
        "bike.update({\"height\":\"181cm\"}) #5th function add new key-value to dictionary\n",
        "print(bike)"
      ],
      "execution_count": 2,
      "outputs": [
        {
          "output_type": "stream",
          "text": [
            "dict_values(['FZV3', 'Matt Black', '140kg'])\n",
            "Matt Black\n",
            "dict_keys(['model', 'color', 'weight'])\n",
            "{'model': 'FZV3', 'weight': '140kg'}\n",
            "{'model': 'FZV3', 'weight': '140kg', 'height': '181cm'}\n"
          ],
          "name": "stdout"
        }
      ]
    }
  ]
}