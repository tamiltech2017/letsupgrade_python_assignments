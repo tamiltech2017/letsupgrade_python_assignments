{
  "nbformat": 4,
  "nbformat_minor": 0,
  "metadata": {
    "colab": {
      "name": "Day5assignment.ipynb",
      "provenance": [],
      "collapsed_sections": [],
      "authorship_tag": "ABX9TyM0md13bFpmT+ES8pMqc5Xk"
    },
    "kernelspec": {
      "name": "python3",
      "display_name": "Python 3"
    }
  },
  "cells": [
    {
      "cell_type": "code",
      "metadata": {
        "id": "9IAR7ePljkXe",
        "colab": {
          "base_uri": "https://localhost:8080/"
        },
        "outputId": "87bca9c3-a030-41cd-a308-77187932824c"
      },
      "source": [
        " !pip install cryptography"
      ],
      "execution_count": null,
      "outputs": [
        {
          "output_type": "stream",
          "text": [
            "Collecting cryptography\n",
            "\u001b[?25l  Downloading https://files.pythonhosted.org/packages/c9/de/7054df0620b5411ba45480f0261e1fb66a53f3db31b28e3aa52c026e72d9/cryptography-3.3.1-cp36-abi3-manylinux2010_x86_64.whl (2.6MB)\n",
            "\u001b[K     |████████████████████████████████| 2.6MB 5.5MB/s \n",
            "\u001b[?25hRequirement already satisfied: six>=1.4.1 in /usr/local/lib/python3.6/dist-packages (from cryptography) (1.15.0)\n",
            "Requirement already satisfied: cffi>=1.12 in /usr/local/lib/python3.6/dist-packages (from cryptography) (1.14.4)\n",
            "Requirement already satisfied: pycparser in /usr/local/lib/python3.6/dist-packages (from cffi>=1.12->cryptography) (2.20)\n",
            "Installing collected packages: cryptography\n",
            "Successfully installed cryptography-3.3.1\n"
          ],
          "name": "stdout"
        }
      ]
    },
    {
      "cell_type": "code",
      "metadata": {
        "id": "3QP38RH7l-Dl"
      },
      "source": [
        " from cryptography.fernet import Fernet"
      ],
      "execution_count": null,
      "outputs": []
    },
    {
      "cell_type": "code",
      "metadata": {
        "id": "z0kapiL3JXEr"
      },
      "source": [
        "def genratePassKey():\n",
        "    key = Fernet.generate_key()\n",
        "    print(key)\n",
        "    print(type(key))\n",
        "    abc = open(\"securityKey.key\",'wb')\n",
        "    abc.write(key)\n",
        "    abc.close()"
      ],
      "execution_count": null,
      "outputs": []
    },
    {
      "cell_type": "code",
      "metadata": {
        "id": "Y75V47j77Wxf"
      },
      "source": [
        " genratePassKey()"
      ],
      "execution_count": null,
      "outputs": []
    },
    {
      "cell_type": "code",
      "metadata": {
        "id": "kx4IpvSJ7b7V"
      },
      "source": [
        "def getMyKey():\n",
        "    abc = open(\"securityKey.key\",'rb')\n",
        "    return abc.read()"
      ],
      "execution_count": null,
      "outputs": []
    },
    {
      "cell_type": "code",
      "metadata": {
        "id": "FFkk-a1O8o9H"
      },
      "source": [
        "def getContentFromUser():\n",
        "    return input(\"Enter the Content you want to Encrypt\")"
      ],
      "execution_count": null,
      "outputs": []
    },
    {
      "cell_type": "code",
      "metadata": {
        "id": "2nkF-b-A7gnj"
      },
      "source": [
        "def encryptMessage(message_normal):\n",
        "    key = getMyKey()\n",
        "    k = Fernet(key)\n",
        "    encrypted_Message = k.encrypt(message_normal)\n",
        "    return encrypted_Message"
      ],
      "execution_count": null,
      "outputs": []
    },
    {
      "cell_type": "code",
      "metadata": {
        "id": "jQB69ena70jQ"
      },
      "source": [
        "data = getContentFromUser()\n",
        " \n",
        "encryptedCode = encryptMessage(data.encode('utf-8'))"
      ],
      "execution_count": null,
      "outputs": []
    },
    {
      "cell_type": "code",
      "metadata": {
        "id": "cHzuxI5s781a"
      },
      "source": [
        " encryptedCode"
      ],
      "execution_count": null,
      "outputs": []
    },
    {
      "cell_type": "code",
      "metadata": {
        "id": "AuZHrbha8CZn"
      },
      "source": [
        "def decryptMessage(message_secret):\n",
        "    key = getMyKey()\n",
        "    k = Fernet(key)\n",
        "    decrypted_Message = k.decrypt(message_secret)\n",
        "    return decrypted_Message"
      ],
      "execution_count": null,
      "outputs": []
    },
    {
      "cell_type": "code",
      "metadata": {
        "id": "XktTDbis8H8m"
      },
      "source": [
        "  decryptMessage(encryptedCode)"
      ],
      "execution_count": null,
      "outputs": []
    },
    {
      "cell_type": "code",
      "metadata": {
        "id": "0KqhiMDb8S2W"
      },
      "source": [
        ""
      ],
      "execution_count": null,
      "outputs": []
    }
  ]
}